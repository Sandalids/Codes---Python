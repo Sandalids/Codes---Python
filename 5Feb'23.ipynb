{
 "cells": [
  {
   "cell_type": "code",
   "execution_count": 1,
   "id": "2eebb32a",
   "metadata": {},
   "outputs": [
    {
     "name": "stdout",
     "output_type": "stream",
     "text": [
      "Sum = 6\n",
      "Difference = 2\n",
      "Product = 20\n",
      "Quotient = 2\n"
     ]
    }
   ],
   "source": [
    "def addn(a, b):\n",
    "    return a + b\n",
    "def subn(a, b):\n",
    "    return a - b\n",
    "def multi(a, b):\n",
    "    return a * b\n",
    "def div(a, b):\n",
    "    if b != 0:\n",
    "        return a//b\n",
    "    else: \n",
    "        return \"Not Defined.\"\n",
    "\n",
    "#Passing parameters directly\n",
    "result = addn(2,4)\n",
    "print(\"Sum = {}\".format(result))\n",
    "\n",
    "#Passing parameters using variables\n",
    "x = 4\n",
    "y = 2\n",
    "result1 = subn(x, y)\n",
    "print(\"Difference = {}\".format(result1))\n",
    "\n",
    "#Passing parameters using expressions\n",
    "result2 = multi(2+3, 4)\n",
    "print(\"Product = {}\".format(result2))\n",
    "\n",
    "\n",
    "#Passing parameters using combination of variables and numbers\n",
    "result3 = div(x, 2)\n",
    "print(\"Quotient = {}\".format(result3))\n"
   ]
  },
  {
   "cell_type": "code",
   "execution_count": 3,
   "id": "a766b595",
   "metadata": {},
   "outputs": [
    {
     "name": "stdout",
     "output_type": "stream",
     "text": [
      "Even Numbers: [2, 8, 6]\n",
      "Squared Numbers: [25, 4, 64, 1, 36, 9]\n",
      "Sorted Numbers: [6, 3, 1, 5, 2, 8]\n"
     ]
    }
   ],
   "source": [
    "#Create simple lambda functions for basic operations like addition, subtraction, multiplication, and division.\n",
    "## Use lambda functions with built-in functions like filter() to filter elements from a list.\n",
    "### Use lambda functions with built-in functions like map() to perform operations on each element\n",
    "###of a list.\n",
    "#### Use lambda functions with the sorted() function to customize sorting.\n",
    "\n",
    "# Lambda functions for basic operations\n",
    "addition = lambda x, y: x + y\n",
    "subtraction = lambda x, y: x - y\n",
    "multiplication = lambda x, y: x * y\n",
    "division = lambda x, y: x / y if y != 0 else \"Cannot divide by zero\"\n",
    "\n",
    "# Sample list of numbers\n",
    "numbers = [5, 2, 8, 1, 6, 3]\n",
    "\n",
    "# Use filter() with lambda to filter even numbers\n",
    "even_numbers = list(filter(lambda x: x % 2 == 0, numbers))\n",
    "print(\"Even Numbers:\", even_numbers)\n",
    "\n",
    "# Use map() with lambda to square each element\n",
    "squared_numbers = list(map(lambda x: x**2, numbers))\n",
    "print(\"Squared Numbers:\", squared_numbers)\n",
    "\n",
    "# Use sorted() with lambda to sort by the remainder when divided by 3\n",
    "sorted_numbers = sorted(numbers, key=lambda x: x % 3)\n",
    "print(\"Sorted Numbers:\", sorted_numbers)\n"
   ]
  },
  {
   "cell_type": "code",
   "execution_count": 4,
   "id": "b1c9cca2",
   "metadata": {},
   "outputs": [
    {
     "name": "stdout",
     "output_type": "stream",
     "text": [
      "Vehicle 1:\n",
      "2022 Toyota Camry\n",
      "\n",
      "Vehicle 2:\n",
      "2023 Ford Mustang\n",
      "\n",
      "Overloaded + operator result:\n",
      "Toyota Camry + Ford Mustang\n",
      "\n",
      "Car 1:\n",
      "2021 Honda Accord\n",
      "Doors: 4, Fuel Type: Gasoline\n",
      "\n",
      "Car 2:\n",
      "2024 Tesla Model S\n",
      "Doors: 2, Fuel Type: Electric\n"
     ]
    }
   ],
   "source": [
    "#Define a base class, e.g., Vehicle, with attributes such as make, model, and year.\n",
    "## Implement a constructor to initialize these attributes.\n",
    "### Create instances of the Vehicle class, representing different vehicles with distinct attributes.\n",
    "#### Display the information for each vehicle using appropriate methods.\n",
    "##### Overload the + operator to combine the make and model attributes of two instances.\n",
    "###### Display the result of this operator overloading operation.\n",
    "####### Create a derived class, e.g., Car, that inherits from the Vehicle class.\n",
    "######## Add specific attributes to the Car class, such as num_doors and fuel_type.\n",
    "######### Instantiate objects of both the Vehicle and Car classes.\n",
    "########## Display the information for each object, showcasing the inheritance structure.\n",
    "\n",
    "\n",
    "class Vehicle:\n",
    "    def __init__(self, make, model, year):\n",
    "        self.make = make\n",
    "        self.model = model\n",
    "        self.year = year\n",
    "\n",
    "    def display_info(self):\n",
    "        print(f\"{self.year} {self.make} {self.model}\")\n",
    "\n",
    "    def __add__(self, other):\n",
    "        if isinstance(other, Vehicle):\n",
    "            return f\"{self.make} {self.model} + {other.make} {other.model}\"\n",
    "\n",
    "class Car(Vehicle):\n",
    "    def __init__(self, make, model, year, num_doors, fuel_type):\n",
    "        super().__init__(make, model, year)\n",
    "        self.num_doors = num_doors\n",
    "        self.fuel_type = fuel_type\n",
    "\n",
    "    def display_info(self):\n",
    "        super().display_info()\n",
    "        print(f\"Doors: {self.num_doors}, Fuel Type: {self.fuel_type}\")\n",
    "\n",
    "\n",
    "# Creating instances of Vehicle class\n",
    "vehicle1 = Vehicle(\"Toyota\", \"Camry\", 2022)\n",
    "vehicle2 = Vehicle(\"Ford\", \"Mustang\", 2023)\n",
    "\n",
    "# Displaying information for each vehicle\n",
    "print(\"Vehicle 1:\")\n",
    "vehicle1.display_info()\n",
    "print(\"\\nVehicle 2:\")\n",
    "vehicle2.display_info()\n",
    "\n",
    "# Overloading the + operator for Vehicle class\n",
    "result = vehicle1 + vehicle2\n",
    "print(\"\\nOverloaded + operator result:\")\n",
    "print(result)\n",
    "\n",
    "# Creating instances of Car class\n",
    "car1 = Car(\"Honda\", \"Accord\", 2021, 4, \"Gasoline\")\n",
    "car2 = Car(\"Tesla\", \"Model S\", 2024, 2, \"Electric\")\n",
    "\n",
    "# Displaying information for each object, showcasing inheritance\n",
    "print(\"\\nCar 1:\")\n",
    "car1.display_info()\n",
    "print(\"\\nCar 2:\")\n",
    "car2.display_info()\n"
   ]
  },
  {
   "cell_type": "code",
   "execution_count": null,
   "id": "f030164e",
   "metadata": {},
   "outputs": [],
   "source": [
    "#Create a Python module by defining a few functions and variables and Import the module created in step 1 into another \n",
    "##Python script and use its functions and variables.\n",
    "\n"
   ]
  }
 ],
 "metadata": {
  "kernelspec": {
   "display_name": "Python 3 (ipykernel)",
   "language": "python",
   "name": "python3"
  },
  "language_info": {
   "codemirror_mode": {
    "name": "ipython",
    "version": 3
   },
   "file_extension": ".py",
   "mimetype": "text/x-python",
   "name": "python",
   "nbconvert_exporter": "python",
   "pygments_lexer": "ipython3",
   "version": "3.11.5"
  }
 },
 "nbformat": 4,
 "nbformat_minor": 5
}
