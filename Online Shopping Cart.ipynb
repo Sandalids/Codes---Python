{
 "cells": [
  {
   "cell_type": "markdown",
   "id": "932e1e1b",
   "metadata": {},
   "source": [
    "## Online Shopping Cart\n",
    "\n",
    "You are tasked with implementing the backend logic for an online shoppingcart\n",
    "application in Python. The application should handle the following functionalities:\n",
    "\n",
    "Product Information:\n",
    "Each product has a unique identifier (ID), name, price, and available quantity. Store product information in a data structure that efficiently supports retrieval byproduct ID. User Cart:\n",
    "Users can add products to their shopping cart. Implement a shopping cart data structure that allows users to add, remove, and viewthe products in their cart. Checkout:\n",
    "Users can proceed to checkout, where the application should calculate the total cost of\n",
    "the items in the cart. Inventory Management:\n",
    "Update the available quantity of a product after it is added to the cart. Promotions:\n",
    "Implement a way to apply promotional discounts to the items in the cart. Instructions:\n",
    "a. Use an appropriate data structure for storing product information efficiently. b. Implement functions/methods to perform the following operations:\n",
    " Add a product to the cart.  Remove a product from the cart.  View the contents of the cart.  Calculate the total cost of the items in the cart.  Apply promotional discounts. c. Demonstrate the use of Lists, Dictionaries, Tuples, and Sets in your implementation. d. Test your implementation with a sample shopping scenario. Note: Provide code snippets or pseudo-code for key parts of your implementation, andexplain your choices regarding data structures and design decisions."
   ]
  },
  {
   "cell_type": "code",
   "execution_count": 67,
   "id": "633cfa03",
   "metadata": {},
   "outputs": [],
   "source": [
    "#Dictionaries are the only data structures in python that have both keys and values. So we will use a nested dictionary to store product information so that we may identify them.\n",
    "\n",
    "product = {\n",
    "    1: {\"name\": \"Product1\", \"price\": 20, \"quantity\": 30},\n",
    "    2: {\"name\": \"Product2\", \"price\": 50, \"quantity\": 10},\n",
    "    3: {\"name\": \"Product3\", \"price\": 10, \"quantity\": 45}\n",
    "}"
   ]
  },
  {
   "cell_type": "code",
   "execution_count": 68,
   "id": "1e39af6c",
   "metadata": {},
   "outputs": [],
   "source": [
    "#Storing items\n",
    "cart = []"
   ]
  },
  {
   "cell_type": "code",
   "execution_count": 69,
   "id": "c0a46215",
   "metadata": {},
   "outputs": [],
   "source": [
    "#Discounts or Deals\n",
    "discount = {\n",
    "    \"D1\": 0.1,\n",
    "    \"D2\": 0.2,\n",
    "    \"D3\": 0.5\n",
    "}"
   ]
  },
  {
   "cell_type": "code",
   "execution_count": 70,
   "id": "e462015c",
   "metadata": {},
   "outputs": [],
   "source": [
    "#Define functions to add products to cart\n",
    "def add_to_cart(pid,quantity=1):\n",
    "    if pid in product and product[pid][\"quantity\"]>=quantity:\n",
    "        cart.append({\"pid\":pid,\"name\":product[pid][\"name\"], \"quantity\":quantity})\n",
    "        product[pid][\"quantity\"]-=quantity\n",
    "        return True\n",
    "    else:\n",
    "        return False"
   ]
  },
  {
   "cell_type": "code",
   "execution_count": 87,
   "id": "c9738f70",
   "metadata": {},
   "outputs": [],
   "source": [
    "#Removing products from cart\n",
    "def remove_from_cart(pid, quantity=1):\n",
    "    for item in cart:\n",
    "        if item[\"pid\"]==pid:\n",
    "            if item[\"quantity\"]<=quantity:\n",
    "                product[pid][\"quantity\"]+=item[\"quantity\"]\n",
    "                cart.remove(item)\n",
    "            else:\n",
    "                item[\"quantity\"]-=quantity\n",
    "                product[pid][\"quantity\"]+=item[\"quantity\"]\n",
    "            return True\n",
    "        return False\n",
    "      "
   ]
  },
  {
   "cell_type": "code",
   "execution_count": 72,
   "id": "f5ae2f85",
   "metadata": {},
   "outputs": [],
   "source": [
    "#How to view cart\n",
    "def view_cart():\n",
    "    return cart"
   ]
  },
  {
   "cell_type": "code",
   "execution_count": 73,
   "id": "a4e6c227",
   "metadata": {},
   "outputs": [],
   "source": [
    "#Calculating total cost of items added to the cart\n",
    "def total_cost():\n",
    "    cost=0.0\n",
    "    for item in cart:\n",
    "        cost+=product[item[\"pid\"]][\"price\"]*item[\"quantity\"]\n",
    "    return cost"
   ]
  },
  {
   "cell_type": "code",
   "execution_count": 74,
   "id": "08db0251",
   "metadata": {},
   "outputs": [],
   "source": [
    "#Applying deals\n",
    "def apply(code):\n",
    "    if code in discount:\n",
    "        dis_value=discount[code]\n",
    "        cost=total_cost()\n",
    "        dcost=cost - (cost*dis_value)\n",
    "        return dcost\n",
    "    else:\n",
    "        return total_cost()"
   ]
  },
  {
   "cell_type": "code",
   "execution_count": 75,
   "id": "f15f0df6",
   "metadata": {},
   "outputs": [
    {
     "data": {
      "text/plain": [
       "True"
      ]
     },
     "execution_count": 75,
     "metadata": {},
     "output_type": "execute_result"
    }
   ],
   "source": [
    "add_to_cart(1,2)"
   ]
  },
  {
   "cell_type": "code",
   "execution_count": 76,
   "id": "5c7a6732",
   "metadata": {},
   "outputs": [
    {
     "data": {
      "text/plain": [
       "[{'pid': 1, 'name': 'Product1', 'quantity': 2}]"
      ]
     },
     "execution_count": 76,
     "metadata": {},
     "output_type": "execute_result"
    }
   ],
   "source": [
    "view_cart()"
   ]
  },
  {
   "cell_type": "code",
   "execution_count": 77,
   "id": "aa8c3418",
   "metadata": {},
   "outputs": [
    {
     "data": {
      "text/plain": [
       "True"
      ]
     },
     "execution_count": 77,
     "metadata": {},
     "output_type": "execute_result"
    }
   ],
   "source": [
    "remove_from_cart(1,2)"
   ]
  },
  {
   "cell_type": "code",
   "execution_count": 78,
   "id": "e4684ff4",
   "metadata": {},
   "outputs": [
    {
     "data": {
      "text/plain": [
       "True"
      ]
     },
     "execution_count": 78,
     "metadata": {},
     "output_type": "execute_result"
    }
   ],
   "source": [
    "add_to_cart(1,2)"
   ]
  },
  {
   "cell_type": "code",
   "execution_count": 79,
   "id": "1dcc8650",
   "metadata": {},
   "outputs": [
    {
     "data": {
      "text/plain": [
       "[{'pid': 1, 'name': 'Product1', 'quantity': 2}]"
      ]
     },
     "execution_count": 79,
     "metadata": {},
     "output_type": "execute_result"
    }
   ],
   "source": [
    "view_cart()"
   ]
  },
  {
   "cell_type": "code",
   "execution_count": 80,
   "id": "a7fd73ae",
   "metadata": {},
   "outputs": [
    {
     "data": {
      "text/plain": [
       "190.0"
      ]
     },
     "execution_count": 80,
     "metadata": {},
     "output_type": "execute_result"
    }
   ],
   "source": [
    "add_to_cart(2,3)\n",
    "view_cart()\n",
    "total_cost()"
   ]
  },
  {
   "cell_type": "code",
   "execution_count": 81,
   "id": "ebd15f66",
   "metadata": {},
   "outputs": [
    {
     "data": {
      "text/plain": [
       "[{'pid': 1, 'name': 'Product1', 'quantity': 2},\n",
       " {'pid': 2, 'name': 'Product2', 'quantity': 3}]"
      ]
     },
     "execution_count": 81,
     "metadata": {},
     "output_type": "execute_result"
    }
   ],
   "source": [
    "view_cart()"
   ]
  },
  {
   "cell_type": "code",
   "execution_count": 82,
   "id": "d1d2a3f3",
   "metadata": {},
   "outputs": [
    {
     "data": {
      "text/plain": [
       "171.0"
      ]
     },
     "execution_count": 82,
     "metadata": {},
     "output_type": "execute_result"
    }
   ],
   "source": [
    "apply(\"D1\")\n"
   ]
  },
  {
   "cell_type": "code",
   "execution_count": 83,
   "id": "dd0963fa",
   "metadata": {},
   "outputs": [],
   "source": [
    "def main():\n",
    "    print(\"Print the products: \")\n",
    "    print(\"Product id\\t\\tName\\t\\tQuantity\\t\\tPrice\")\n",
    "    for pid, details in product.items():\n",
    "        print(\"{}\\t\\t\\t{}\\t{}\\t\\t\\t{}\".format(pid,details[\"name\"], details[\"quantity\"], details[\"price\"]))"
   ]
  },
  {
   "cell_type": "code",
   "execution_count": 84,
   "id": "52546afd",
   "metadata": {},
   "outputs": [
    {
     "name": "stdout",
     "output_type": "stream",
     "text": [
      "Print the products: \n",
      "Product id\t\tName\t\tQuantity\t\tPrice\n",
      "1\t\t\tProduct1\t28\t\t\t20\n",
      "2\t\t\tProduct2\t7\t\t\t50\n",
      "3\t\t\tProduct3\t45\t\t\t10\n"
     ]
    }
   ],
   "source": [
    "main()"
   ]
  },
  {
   "cell_type": "code",
   "execution_count": 85,
   "id": "4ceacde8",
   "metadata": {},
   "outputs": [
    {
     "name": "stdout",
     "output_type": "stream",
     "text": [
      "Name\t\tQuantity\n",
      "Product1\t\t2\n",
      "Product2\t\t3\n",
      "Total cost: 190.0\n"
     ]
    }
   ],
   "source": [
    "print(\"Name\\t\\tQuantity\")\n",
    "for item in view_cart():\n",
    "    print(\"{}\\t\\t{}\".format(item[\"name\"],item[\"quantity\"]))\n",
    "print(\"Total cost: {}\".format(total_cost()))"
   ]
  }
 ],
 "metadata": {
  "kernelspec": {
   "display_name": "Python 3 (ipykernel)",
   "language": "python",
   "name": "python3"
  },
  "language_info": {
   "codemirror_mode": {
    "name": "ipython",
    "version": 3
   },
   "file_extension": ".py",
   "mimetype": "text/x-python",
   "name": "python",
   "nbconvert_exporter": "python",
   "pygments_lexer": "ipython3",
   "version": "3.11.5"
  }
 },
 "nbformat": 4,
 "nbformat_minor": 5
}
