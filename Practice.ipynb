{
 "cells": [
  {
   "cell_type": "markdown",
   "id": "582441eb",
   "metadata": {},
   "source": [
    "### FLOW CONTROL:\n",
    " 1) if...else statements\n",
    " 2) for loop\n",
    " 3) while loop\n",
    " \n",
    " ---> Basic programs to be taken up by choice and then solved. Some of these programs may be coincidentally similar to the assignment given later."
   ]
  },
  {
   "cell_type": "code",
   "execution_count": 3,
   "id": "8efb2488",
   "metadata": {},
   "outputs": [
    {
     "name": "stdout",
     "output_type": "stream",
     "text": [
      "Enter first number - a: 3\n",
      "Enter second number - b: 4\n",
      "b is greater than a\n"
     ]
    }
   ],
   "source": [
    "#Program to compare two numbers using IF...ELSE\n",
    "#user input by typecasting\n",
    "a=int(input(\"Enter first number - a: \"))\n",
    "b=int(input(\"Enter second number - b: \"))\n",
    "#main condition\n",
    "if a > b:\n",
    "    print (\"a is greater than b\")\n",
    "elif b > a:\n",
    "    print (\"b is greater than a\")\n",
    "else:\n",
    "    print (\"a and b are equal\")"
   ]
  },
  {
   "cell_type": "code",
   "execution_count": 4,
   "id": "5a20e9f9",
   "metadata": {},
   "outputs": [
    {
     "ename": "SyntaxError",
     "evalue": "cannot assign to expression here. Maybe you meant '==' instead of '='? (1788012397.py, line 3)",
     "output_type": "error",
     "traceback": [
      "\u001b[1;36m  Cell \u001b[1;32mIn[4], line 3\u001b[1;36m\u001b[0m\n\u001b[1;33m    if a%2 = 0:\u001b[0m\n\u001b[1;37m       ^\u001b[0m\n\u001b[1;31mSyntaxError\u001b[0m\u001b[1;31m:\u001b[0m cannot assign to expression here. Maybe you meant '==' instead of '='?\n"
     ]
    }
   ],
   "source": [
    "#Program to find out whether a number is odd or even\n",
    "a=int(input(\"Enter number: \"))\n",
    "if a%2 = 0:\n",
    "    print (\"Given number 'a' is even\")\n",
    "else:\n",
    "    print (\"Given number 'a' is odd\")"
   ]
  },
  {
   "cell_type": "code",
   "execution_count": 5,
   "id": "54734a2d",
   "metadata": {},
   "outputs": [
    {
     "name": "stdout",
     "output_type": "stream",
     "text": [
      "Enter number: 56\n",
      "Given number 'a' is even\n"
     ]
    }
   ],
   "source": [
    "#Program to find out whether a number is odd or even using IF...ELSE\n",
    "#User input by typecasting\n",
    "a=int(input(\"Enter number: \"))\n",
    "#main condition\n",
    "if a%2 == 0:\n",
    "    print (\"Given number 'a' is even\")\n",
    "else:\n",
    "    print (\"Given number 'a' is odd\")"
   ]
  },
  {
   "cell_type": "code",
   "execution_count": 7,
   "id": "3fe8966e",
   "metadata": {},
   "outputs": [
    {
     "name": "stdout",
     "output_type": "stream",
     "text": [
      "Enter first number: 12\n",
      "Enter second number: 13\n",
      "Enter third number: 14\n",
      "14 is the greatest number\n"
     ]
    }
   ],
   "source": [
    "#Program to find greatest of three numbers using IF...ELSE\n",
    "#User input by typecasting\n",
    "n1=int(input(\"Enter first number: \"))\n",
    "n2=int(input(\"Enter second number: \"))\n",
    "n3=int(input(\"Enter third number: \"))\n",
    "\n",
    "if n1>n2 and n1>n3:\n",
    "    print(\"{} is the greatest number\".format(n1))\n",
    "elif n2>n1 and n2>n3:\n",
    "    print(\"{} is the greatest number\".format(n2))\n",
    "else:\n",
    "    print(\"{} is the greatest number\".format(n3))\n",
    "    \n"
   ]
  },
  {
   "cell_type": "code",
   "execution_count": 9,
   "id": "520db292",
   "metadata": {},
   "outputs": [
    {
     "name": "stdout",
     "output_type": "stream",
     "text": [
      "Enter the start of range: 12\n",
      "Enter the end of range: 22\n",
      "12\n",
      "14\n",
      "16\n",
      "18\n",
      "20\n",
      "22\n"
     ]
    }
   ],
   "source": [
    "#Program to find even numbers in a set of user inputs using LOOPING STATEMENT - FOR LOOP\n",
    "start = int(input(\"Enter the start of range: \"))\n",
    "end = int(input(\"Enter the end of range: \"))\n",
    "\n",
    "for num in range (start, end+1):\n",
    "    if num%2 == 0:\n",
    "        print (num)\n",
    "    "
   ]
  },
  {
   "cell_type": "code",
   "execution_count": 11,
   "id": "88084fe1",
   "metadata": {
    "scrolled": true
   },
   "outputs": [
    {
     "name": "stdout",
     "output_type": "stream",
     "text": [
      "1\n",
      "2\n",
      "3\n",
      "4\n",
      "5\n",
      "6\n",
      "7\n",
      "8\n",
      "9\n",
      "10\n"
     ]
    }
   ],
   "source": [
    "#Basic program to print first 10 numbers:\n",
    "for i in range (1,11):\n",
    "    print (i)"
   ]
  },
  {
   "cell_type": "code",
   "execution_count": 14,
   "id": "83110f21",
   "metadata": {},
   "outputs": [
    {
     "name": "stdout",
     "output_type": "stream",
     "text": [
      "Enter number: 123\n",
      "6\n"
     ]
    }
   ],
   "source": [
    "n=int(input(\"Enter number: \"))\n",
    "def getSum(n):\n",
    "    sum = 0\n",
    "    while n>0:\n",
    "        sum = sum + (n%10)\n",
    "        n = n//10\n",
    "    return sum\n",
    "print (getSum(n))"
   ]
  },
  {
   "cell_type": "markdown",
   "id": "2d41ae68",
   "metadata": {},
   "source": [
    "### ASSIGNMENT - 18 Questions"
   ]
  },
  {
   "cell_type": "code",
   "execution_count": 16,
   "id": "5f26f840",
   "metadata": {},
   "outputs": [
    {
     "name": "stdout",
     "output_type": "stream",
     "text": [
      "1\n",
      "2\n",
      "3\n",
      "4\n",
      "5\n",
      "6\n",
      "7\n",
      "8\n",
      "9\n",
      "10\n"
     ]
    }
   ],
   "source": [
    "#Example one : Print first 10 natural numbers using For Loop\n",
    "for i in range (1,11):\n",
    "    print (i)"
   ]
  },
  {
   "cell_type": "code",
   "execution_count": 1,
   "id": "85dc69a4",
   "metadata": {},
   "outputs": [
    {
     "name": "stdout",
     "output_type": "stream",
     "text": [
      "Enter beginning of the range: 4\n",
      "Enter end of range: 10\n",
      "4\n",
      "6\n",
      "8\n",
      "10\n"
     ]
    }
   ],
   "source": [
    "#EXAMPLE 2: Python program to print all even numbers in a given range\n",
    "s=int(input(\"Enter beginning of the range: \"))\n",
    "e=int(input(\"Enter end of range: \"))\n",
    "\n",
    "for n in range (s, e+1):\n",
    "    if n%2 == 0:\n",
    "        print (n)"
   ]
  },
  {
   "cell_type": "code",
   "execution_count": 3,
   "id": "37ce18fa",
   "metadata": {},
   "outputs": [
    {
     "name": "stdout",
     "output_type": "stream",
     "text": [
      "Enter range: 5\n",
      "15 is the sum of all numbers\n"
     ]
    }
   ],
   "source": [
    "#EXAMPLE 3: Python program to calculate the sum of all numbers from 1 to a given number\n",
    "num=int(input(\"Enter range: \"))\n",
    "sum=0\n",
    "for i in range (1, num+1):\n",
    "    sum+=i\n",
    "print(\"{} is the sum of all numbers\".format(sum))"
   ]
  },
  {
   "cell_type": "code",
   "execution_count": 4,
   "id": "75646771",
   "metadata": {
    "scrolled": true
   },
   "outputs": [
    {
     "name": "stdout",
     "output_type": "stream",
     "text": [
      "Enter beginning of range: 1\n",
      "Enter end of range: 5\n",
      "9 is the sum of all odd numbers in given range.\n"
     ]
    }
   ],
   "source": [
    "#EXAMPLE 4: Python program to calculate the sum of all the odd numbers within the given range.\n",
    "start=int(input(\"Enter beginning of range: \"))\n",
    "end=int(input(\"Enter end of range: \"))\n",
    "result = 0\n",
    "for i in range (start, end+1):\n",
    "    if i%2 == 1:\n",
    "        result+=i\n",
    "print (\"{} is the sum of all odd numbers in given range.\".format(result))"
   ]
  },
  {
   "cell_type": "code",
   "execution_count": 6,
   "id": "47d77e26",
   "metadata": {},
   "outputs": [
    {
     "name": "stdout",
     "output_type": "stream",
     "text": [
      "Display multiplication table of = 2\n",
      "2 * 1 = 2\n",
      "2 * 2 = 4\n",
      "2 * 3 = 6\n",
      "2 * 4 = 8\n",
      "2 * 5 = 10\n",
      "2 * 6 = 12\n",
      "2 * 7 = 14\n",
      "2 * 8 = 16\n",
      "2 * 9 = 18\n",
      "2 * 10 = 20\n"
     ]
    }
   ],
   "source": [
    "#EXAMPLE 5: Python program to print a multiplication table of a given number.\n",
    "num = int(input(\"Display multiplication table of = \"))\n",
    "#Iterate 10 times \n",
    "for i in range (1,11):\n",
    "    print(\"{} * {} = {}\".format(num,i,num*i))"
   ]
  },
  {
   "cell_type": "code",
   "execution_count": 7,
   "id": "686a59e4",
   "metadata": {},
   "outputs": [
    {
     "name": "stdout",
     "output_type": "stream",
     "text": [
      "1\n",
      "2\n",
      "3\n",
      "4\n",
      "5\n"
     ]
    }
   ],
   "source": [
    "#EXAMPLE 6: Python program to display numbers from a list using a for loop.\n",
    "a=[1,2,3,4,5]\n",
    "for i in range (1,6):\n",
    "    print (i)"
   ]
  },
  {
   "cell_type": "code",
   "execution_count": 9,
   "id": "76db3c49",
   "metadata": {},
   "outputs": [
    {
     "name": "stdout",
     "output_type": "stream",
     "text": [
      "Enter number: 123\n",
      "No. of digits is 3\n"
     ]
    }
   ],
   "source": [
    "#EXAMPLE 7: Python program to count the total number of digits in a number.\n",
    "num=int(input(\"Enter number: \"))\n",
    "count = 0\n",
    "while num > 0:\n",
    "    num //=10\n",
    "    count+=1\n",
    "print(\"No. of digits is {}\".format(count))"
   ]
  },
  {
   "cell_type": "code",
   "execution_count": 24,
   "id": "f852dc23",
   "metadata": {},
   "outputs": [
    {
     "name": "stdout",
     "output_type": "stream",
     "text": [
      "Enter a word:RADAR\n",
      "It is a palindrome\n"
     ]
    }
   ],
   "source": [
    "#EXAMPLE 8: Python program to check if the given string is a palindrome\n",
    "s=input(\"Enter a word:\")\n",
    "if(s==s[::-1]):\n",
    "    print(\"It is a palindrome\")\n",
    "else:\n",
    "    print(\"It is not a palindrome\")"
   ]
  },
  {
   "cell_type": "code",
   "execution_count": 25,
   "id": "a18312db",
   "metadata": {},
   "outputs": [
    {
     "name": "stdout",
     "output_type": "stream",
     "text": [
      "Enter string: Sandali\n",
      "iladnaS\n"
     ]
    }
   ],
   "source": [
    "#EXAMPLE 9: Python program that accepts a word from the user and reverses it.\n",
    "s = input(\"Enter string: \")\n",
    "reversed = s[::-1]\n",
    "print(reversed)"
   ]
  },
  {
   "cell_type": "code",
   "execution_count": 26,
   "id": "0806508a",
   "metadata": {},
   "outputs": [
    {
     "name": "stdout",
     "output_type": "stream",
     "text": [
      "Enter a number: 123\n",
      "123 is not an Armstrong number\n"
     ]
    }
   ],
   "source": [
    "#EXAMPLE 10: Python program to check if a given number is an Armstrong number\n",
    "# Python program to check if the number is an Armstrong number or not\n",
    "\n",
    "# take input from the user\n",
    "num = int(input(\"Enter a number: \"))\n",
    "\n",
    "# initialize sum\n",
    "sum = 0\n",
    "\n",
    "# find the sum of the cube of each digit\n",
    "temp = num\n",
    "while temp > 0:\n",
    "   digit = temp % 10\n",
    "   sum += digit ** 3\n",
    "   temp //= 10\n",
    "\n",
    "# display the result\n",
    "if num == sum:\n",
    "   print(num,\"is an Armstrong number\")\n",
    "else:\n",
    "    print(num,\"is not an Armstrong number\")"
   ]
  },
  {
   "cell_type": "code",
   "execution_count": 27,
   "id": "8a2e66e9",
   "metadata": {},
   "outputs": [
    {
     "name": "stdout",
     "output_type": "stream",
     "text": [
      "Even numbers in the list:  3\n",
      "Odd numbers in the list:  4\n"
     ]
    }
   ],
   "source": [
    "#EXAMPLE 11: Python program to count the number of even and odd numbers from a series of numbers.\n",
    "list1 = [10, 21, 4, 45, 66, 93, 1]\n",
    " \n",
    "even_count, odd_count = 0, 0\n",
    " \n",
    "# iterating each number in list\n",
    "for num in list1:\n",
    " \n",
    "    # checking condition\n",
    "    if num % 2 == 0:\n",
    "        even_count += 1\n",
    " \n",
    "    else:\n",
    "        odd_count += 1\n",
    " \n",
    "print(\"Even numbers in the list: \", even_count)\n",
    "print(\"Odd numbers in the list: \", odd_count)"
   ]
  },
  {
   "cell_type": "code",
   "execution_count": 1,
   "id": "1c4bb70d",
   "metadata": {},
   "outputs": [
    {
     "name": "stdout",
     "output_type": "stream",
     "text": [
      "Enter the lower range value: 2\n",
      "Enter the higher range value: 6\n",
      "The following are the list of composite numbers in the range: \n",
      "4\n",
      "6\n"
     ]
    }
   ],
   "source": [
    "#EXAMPLE 12: Python program to display all numbers within a range except the prime numebers\n",
    "def isPrime(x):\n",
    "    if(x==1 or x==2):\n",
    "        return 1\n",
    "    for i in range(2,x):\n",
    "        if(x%i==0):\n",
    "            y=0\n",
    "            break\n",
    "        else:\n",
    "            y=1\n",
    "    return y\n",
    "a=int(input(\"Enter the lower range value: \"))\n",
    "b=int(input(\"Enter the higher range value: \"))\n",
    "print(\"The following are the list of composite numbers in the range: \")\n",
    "for i in range(a,b+1):\n",
    "    if(not isPrime(i)):\n",
    "        print(i)"
   ]
  },
  {
   "cell_type": "code",
   "execution_count": 2,
   "id": "a8e9e19b",
   "metadata": {},
   "outputs": [
    {
     "name": "stdout",
     "output_type": "stream",
     "text": [
      "The following are the numbers in the Fibonacci series: \n",
      "1\n",
      "1\n",
      "2\n",
      "3\n",
      "5\n",
      "8\n",
      "13\n",
      "21\n",
      "34\n"
     ]
    }
   ],
   "source": [
    "#EXAMPLE 13: Python program to get the Fibonacci series between 0 and 50\n",
    "print(\"The following are the numbers in the Fibonacci series: \")\n",
    "a=1\n",
    "b=1\n",
    "print(a)\n",
    "print(b)\n",
    "c=0\n",
    "while(c<50):\n",
    "    c=a+b\n",
    "    if(c>=50):\n",
    "        break\n",
    "    print(c)\n",
    "    a=b\n",
    "    b=c"
   ]
  },
  {
   "cell_type": "code",
   "execution_count": 3,
   "id": "c3ca3bc1",
   "metadata": {},
   "outputs": [
    {
     "name": "stdout",
     "output_type": "stream",
     "text": [
      "Enter a number:3\n",
      "Factorial of 3 is 6\n"
     ]
    }
   ],
   "source": [
    "#EXAMPLE 14: Python program to find the factorial of a number\n",
    "x=int(input(\"Enter a number:\"))\n",
    "p=1\n",
    "for i in range(1,x+1):\n",
    "    p*=i\n",
    "print(\"Factorial of {} is {}\".format(x,p))"
   ]
  },
  {
   "cell_type": "code",
   "execution_count": 4,
   "id": "6c673de7",
   "metadata": {},
   "outputs": [
    {
     "name": "stdout",
     "output_type": "stream",
     "text": [
      "Enter a string:Sandali\n",
      "Number of digits 0\n",
      "Number of letters 7\n"
     ]
    }
   ],
   "source": [
    "#EXAMPLE 15: Python program that accepts a string and calculates the number of digits and letters\n",
    "s=input(\"Enter a string:\")\n",
    "count=0\n",
    "count1=0\n",
    "for i in s:\n",
    "    if(i.isdigit()):\n",
    "        count+=1\n",
    "    elif(i.isalpha()):\n",
    "        count1+=1\n",
    "print(\"Number of digits {}\".format(count))\n",
    "print(\"Number of letters {}\".format(count1))"
   ]
  },
  {
   "cell_type": "code",
   "execution_count": 5,
   "id": "15a0785f",
   "metadata": {},
   "outputs": [
    {
     "name": "stdout",
     "output_type": "stream",
     "text": [
      "1\n",
      "2\n",
      "3\n",
      "4\n",
      "5\n",
      "6\n",
      "7\n",
      "8\n",
      "9\n",
      "10\n",
      "11\n",
      "12\n",
      "13\n",
      "14\n",
      "15\n",
      "16\n",
      "17\n",
      "18\n",
      "19\n",
      "20\n",
      "21\n",
      "22\n",
      "23\n",
      "24\n",
      "25\n"
     ]
    }
   ],
   "source": [
    "#EXAMPLE 16: Write a Python program that iterates the integers from 1 to 25\n",
    "for i in range(1,26):\n",
    "    print(i)"
   ]
  },
  {
   "cell_type": "code",
   "execution_count": 7,
   "id": "cf5311ec",
   "metadata": {},
   "outputs": [
    {
     "name": "stdout",
     "output_type": "stream",
     "text": [
      "Enter your password:3432\n",
      "Invalid password\n"
     ]
    }
   ],
   "source": [
    "#EXAMPLE 17: Python program to check the validity of password input by users\n",
    "#must be a 6 digit password\n",
    "x=int(input(\"Enter your password:\"))\n",
    "count=0\n",
    "while(x!=0):\n",
    "    x=x//10\n",
    "    count+=1\n",
    "if(count!=6):\n",
    "    print(\"Invalid password\")\n",
    "else:\n",
    "    print(\"Valid password\")"
   ]
  },
  {
   "cell_type": "code",
   "execution_count": 8,
   "id": "7ef20106",
   "metadata": {},
   "outputs": [
    {
     "name": "stdout",
     "output_type": "stream",
     "text": [
      "Enter the name of Month: September\n",
      "No. of days: 30 days\n"
     ]
    }
   ],
   "source": [
    "#EXAMPLE 18: Python program to convert the month name to a number of days\n",
    "month_name = input(\"Enter the name of Month: \")\n",
    " \n",
    "if month_name == \"February\":\n",
    "    print(\"No. of days: 28/29 days\")\n",
    "elif month_name in (\"April\", \"June\", \"September\", \"November\"):\n",
    "    print(\"No. of days: 30 days\")\n",
    "elif month_name in (\"January\", \"March\", \"May\", \"July\", \"August\", \"October\", \"December\"):\n",
    "    print(\"No. of days: 31 day\")\n",
    "else:\n",
    "    print(\"Invalid month name\")"
   ]
  }
 ],
 "metadata": {
  "kernelspec": {
   "display_name": "Python 3 (ipykernel)",
   "language": "python",
   "name": "python3"
  },
  "language_info": {
   "codemirror_mode": {
    "name": "ipython",
    "version": 3
   },
   "file_extension": ".py",
   "mimetype": "text/x-python",
   "name": "python",
   "nbconvert_exporter": "python",
   "pygments_lexer": "ipython3",
   "version": "3.11.5"
  }
 },
 "nbformat": 4,
 "nbformat_minor": 5
}
