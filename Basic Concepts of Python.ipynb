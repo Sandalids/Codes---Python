{
 "cells": [
  {
   "cell_type": "markdown",
   "id": "44d7d28d",
   "metadata": {},
   "source": [
    "## Basic Concepts of Python\n",
    "\n",
    "###  Variables, Constants and Literals\n",
    "\n",
    "- Variables: They are like containers that store values. Unike C, C++ it does not need declaration prior use\n",
    "- Identifiers: Used to identify the variables\n",
    "- Constant: These are values that cant be changed. They remain constant throughout.\n",
    "- Literals: It is used to express a specific value of a fixed data type.\n",
    "\n",
    "### Nomenclature for naming variables in Python:\n",
    "- Must start with a letter or underscore character\n",
    "- Cannot start with a numeric digit\n",
    "- Can only contain alphanumeric values and underscores\n",
    "- They are case-sensitive"
   ]
  },
  {
   "cell_type": "markdown",
   "id": "e7bef8c2",
   "metadata": {},
   "source": [
    "### Types of Variables\n",
    "\n",
    "- Local Variable: Those which are defined in any function and their scope is limited to that function only.\n",
    "- Global Variable: Those which are not defined inside a function and have a global scope"
   ]
  },
  {
   "cell_type": "code",
   "execution_count": 39,
   "id": "ba7a763d",
   "metadata": {},
   "outputs": [
    {
     "name": "stdout",
     "output_type": "stream",
     "text": [
      "4\n",
      "4\n"
     ]
    }
   ],
   "source": [
    "# Local variable\n",
    "def prints():\n",
    "    a=4\n",
    "    print(a)\n",
    "prints()\n",
    "print(a) # wont print this"
   ]
  },
  {
   "cell_type": "code",
   "execution_count": 38,
   "id": "ed79fb39",
   "metadata": {},
   "outputs": [
    {
     "name": "stdout",
     "output_type": "stream",
     "text": [
      "4\n",
      "4\n"
     ]
    }
   ],
   "source": [
    "# Global variable\n",
    "a=4\n",
    "def prints():\n",
    "    a=4\n",
    "    print(a)\n",
    "prints()\n",
    "print(a)"
   ]
  },
  {
   "cell_type": "markdown",
   "id": "812d8eb7",
   "metadata": {},
   "source": [
    "### Data Types\n",
    "- int"
   ]
  },
  {
   "cell_type": "code",
   "execution_count": 1,
   "id": "38f163c8",
   "metadata": {},
   "outputs": [
    {
     "data": {
      "text/plain": [
       "int"
      ]
     },
     "execution_count": 1,
     "metadata": {},
     "output_type": "execute_result"
    }
   ],
   "source": [
    "a=4\n",
    "type(a)"
   ]
  },
  {
   "cell_type": "markdown",
   "id": "585e5106",
   "metadata": {},
   "source": [
    "- float"
   ]
  },
  {
   "cell_type": "code",
   "execution_count": 2,
   "id": "3986ab1c",
   "metadata": {},
   "outputs": [
    {
     "data": {
      "text/plain": [
       "float"
      ]
     },
     "execution_count": 2,
     "metadata": {},
     "output_type": "execute_result"
    }
   ],
   "source": [
    "a=4.5\n",
    "type(a)"
   ]
  },
  {
   "cell_type": "markdown",
   "id": "93829dec",
   "metadata": {},
   "source": [
    "- String(str)"
   ]
  },
  {
   "cell_type": "code",
   "execution_count": 3,
   "id": "7b9bca83",
   "metadata": {},
   "outputs": [
    {
     "data": {
      "text/plain": [
       "str"
      ]
     },
     "execution_count": 3,
     "metadata": {},
     "output_type": "execute_result"
    }
   ],
   "source": [
    "a=\"Hello\"\n",
    "b='World'\n",
    "# can use single or double invertd commas\n",
    "type(a)"
   ]
  },
  {
   "cell_type": "code",
   "execution_count": 4,
   "id": "f67c7dee",
   "metadata": {},
   "outputs": [
    {
     "data": {
      "text/plain": [
       "str"
      ]
     },
     "execution_count": 4,
     "metadata": {},
     "output_type": "execute_result"
    }
   ],
   "source": [
    "type(b)"
   ]
  },
  {
   "cell_type": "markdown",
   "id": "aa711580",
   "metadata": {},
   "source": [
    "- bool(Boolean)"
   ]
  },
  {
   "cell_type": "code",
   "execution_count": 15,
   "id": "c1684f0d",
   "metadata": {},
   "outputs": [
    {
     "data": {
      "text/plain": [
       "bool"
      ]
     },
     "execution_count": 15,
     "metadata": {},
     "output_type": "execute_result"
    }
   ],
   "source": [
    "a=True\n",
    "type(a)"
   ]
  },
  {
   "cell_type": "markdown",
   "id": "4b87fe35",
   "metadata": {},
   "source": [
    "### Comments"
   ]
  },
  {
   "cell_type": "code",
   "execution_count": 9,
   "id": "b49d97b6",
   "metadata": {},
   "outputs": [],
   "source": [
    "# Single line comments can be provided using hashtags(#)\n",
    "# Multi-line comments can be provided using either hashtag for every comment\n",
    "# Comments provide explanations and improve readability."
   ]
  },
  {
   "cell_type": "code",
   "execution_count": 10,
   "id": "37cf771a",
   "metadata": {},
   "outputs": [
    {
     "name": "stdout",
     "output_type": "stream",
     "text": [
      "Hello World\n"
     ]
    }
   ],
   "source": [
    "# To print a statement\n",
    "print(\"Hello World\")"
   ]
  },
  {
   "cell_type": "code",
   "execution_count": 11,
   "id": "a0f170dc",
   "metadata": {},
   "outputs": [
    {
     "data": {
      "text/plain": [
       "5"
      ]
     },
     "execution_count": 11,
     "metadata": {},
     "output_type": "execute_result"
    }
   ],
   "source": [
    "# Finding the sum of two values\n",
    "2+3"
   ]
  },
  {
   "cell_type": "code",
   "execution_count": 12,
   "id": "8c9b0c41",
   "metadata": {},
   "outputs": [
    {
     "data": {
      "text/plain": [
       "9"
      ]
     },
     "execution_count": 12,
     "metadata": {},
     "output_type": "execute_result"
    }
   ],
   "source": [
    "a=4\n",
    "b=5\n",
    "a+b"
   ]
  },
  {
   "cell_type": "code",
   "execution_count": 13,
   "id": "6852a612",
   "metadata": {},
   "outputs": [
    {
     "name": "stdout",
     "output_type": "stream",
     "text": [
      "Enter the first value:4\n",
      "Enter the second value:5\n"
     ]
    },
    {
     "data": {
      "text/plain": [
       "5"
      ]
     },
     "execution_count": 13,
     "metadata": {},
     "output_type": "execute_result"
    }
   ],
   "source": [
    "# Taking user input\n",
    "int(input(\"Enter the first value:\"))\n",
    "int(input(\"Enter the second value:\"))"
   ]
  },
  {
   "cell_type": "code",
   "execution_count": 14,
   "id": "1d59810b",
   "metadata": {},
   "outputs": [
    {
     "name": "stdout",
     "output_type": "stream",
     "text": [
      "Enter the first value:4\n",
      "Enter the second value:5\n",
      "Sum of 4 and 5 is 9\n"
     ]
    }
   ],
   "source": [
    "# Finding the sum of two numebers using user input\n",
    "a=int(input(\"Enter the first value:\"))\n",
    "b=int(input(\"Enter the second value:\"))\n",
    "print(\"Sum of {} and {} is {}\".format(a,b,a+b))"
   ]
  },
  {
   "cell_type": "markdown",
   "id": "c7896967",
   "metadata": {},
   "source": [
    "### Operators\n",
    "\n",
    "There are various operators that can be used to perform multiple operations.\n",
    "\n",
    "#### Arithmetic Operators\n",
    "Arithmetic operators are used with numeric values to perform common mathematical operations"
   ]
  },
  {
   "cell_type": "code",
   "execution_count": 18,
   "id": "594a6616",
   "metadata": {},
   "outputs": [
    {
     "data": {
      "text/plain": [
       "12"
      ]
     },
     "execution_count": 18,
     "metadata": {},
     "output_type": "execute_result"
    }
   ],
   "source": [
    "# '+' operator(used for addition)\n",
    "8+4"
   ]
  },
  {
   "cell_type": "code",
   "execution_count": 17,
   "id": "da1ac53e",
   "metadata": {},
   "outputs": [
    {
     "data": {
      "text/plain": [
       "4"
      ]
     },
     "execution_count": 17,
     "metadata": {},
     "output_type": "execute_result"
    }
   ],
   "source": [
    "# '-' operator(used for subtraction)\n",
    "8-4"
   ]
  },
  {
   "cell_type": "code",
   "execution_count": 22,
   "id": "df5136d4",
   "metadata": {},
   "outputs": [
    {
     "data": {
      "text/plain": [
       "2.0"
      ]
     },
     "execution_count": 22,
     "metadata": {},
     "output_type": "execute_result"
    }
   ],
   "source": [
    "# '/' operator(used for division: gives output in decimals)\n",
    "a=8/4\n",
    "a"
   ]
  },
  {
   "cell_type": "code",
   "execution_count": 23,
   "id": "80bf3396",
   "metadata": {},
   "outputs": [
    {
     "data": {
      "text/plain": [
       "float"
      ]
     },
     "execution_count": 23,
     "metadata": {},
     "output_type": "execute_result"
    }
   ],
   "source": [
    "type(a)"
   ]
  },
  {
   "cell_type": "code",
   "execution_count": 24,
   "id": "7d6b409e",
   "metadata": {},
   "outputs": [
    {
     "data": {
      "text/plain": [
       "2"
      ]
     },
     "execution_count": 24,
     "metadata": {},
     "output_type": "execute_result"
    }
   ],
   "source": [
    "# '//' operator(used for division: gives ouput in integers)\n",
    "a=8//4\n",
    "a"
   ]
  },
  {
   "cell_type": "code",
   "execution_count": 25,
   "id": "4feeacd6",
   "metadata": {},
   "outputs": [
    {
     "data": {
      "text/plain": [
       "int"
      ]
     },
     "execution_count": 25,
     "metadata": {},
     "output_type": "execute_result"
    }
   ],
   "source": [
    "type(a)"
   ]
  },
  {
   "cell_type": "code",
   "execution_count": 26,
   "id": "3740331d",
   "metadata": {},
   "outputs": [
    {
     "data": {
      "text/plain": [
       "0"
      ]
     },
     "execution_count": 26,
     "metadata": {},
     "output_type": "execute_result"
    }
   ],
   "source": [
    "# '%' operator(modulus operator: returns the remainder upon division performed between two numbers)\n",
    "8%4"
   ]
  },
  {
   "cell_type": "code",
   "execution_count": 27,
   "id": "eaa29f35",
   "metadata": {},
   "outputs": [
    {
     "data": {
      "text/plain": [
       "32"
      ]
     },
     "execution_count": 27,
     "metadata": {},
     "output_type": "execute_result"
    }
   ],
   "source": [
    "# '*' operator(used for multiplication)\n",
    "8*4"
   ]
  },
  {
   "cell_type": "code",
   "execution_count": 32,
   "id": "7e46f2f3",
   "metadata": {},
   "outputs": [
    {
     "data": {
      "text/plain": [
       "64"
      ]
     },
     "execution_count": 32,
     "metadata": {},
     "output_type": "execute_result"
    }
   ],
   "source": [
    "# '**' operator(exponential operator: finds the power of the mentioned numbers)\n",
    "4**3"
   ]
  },
  {
   "cell_type": "markdown",
   "id": "b7a89b90",
   "metadata": {},
   "source": [
    "#### Assignment Operators\n",
    "Assignment operators are used to assign values to variables"
   ]
  },
  {
   "cell_type": "code",
   "execution_count": 12,
   "id": "ffa8c1fb",
   "metadata": {},
   "outputs": [],
   "source": [
    "a=5"
   ]
  },
  {
   "cell_type": "code",
   "execution_count": 13,
   "id": "1efb4eef",
   "metadata": {},
   "outputs": [
    {
     "data": {
      "text/plain": [
       "9"
      ]
     },
     "execution_count": 13,
     "metadata": {},
     "output_type": "execute_result"
    }
   ],
   "source": [
    "a+=4\n",
    "a"
   ]
  },
  {
   "cell_type": "code",
   "execution_count": 14,
   "id": "adc41d21",
   "metadata": {},
   "outputs": [
    {
     "data": {
      "text/plain": [
       "7"
      ]
     },
     "execution_count": 14,
     "metadata": {},
     "output_type": "execute_result"
    }
   ],
   "source": [
    "a-=2\n",
    "a"
   ]
  },
  {
   "cell_type": "code",
   "execution_count": 15,
   "id": "c3fe84df",
   "metadata": {},
   "outputs": [
    {
     "data": {
      "text/plain": [
       "14"
      ]
     },
     "execution_count": 15,
     "metadata": {},
     "output_type": "execute_result"
    }
   ],
   "source": [
    "a*=2\n",
    "a"
   ]
  },
  {
   "cell_type": "code",
   "execution_count": 16,
   "id": "1880cfa9",
   "metadata": {},
   "outputs": [
    {
     "data": {
      "text/plain": [
       "7.0"
      ]
     },
     "execution_count": 16,
     "metadata": {},
     "output_type": "execute_result"
    }
   ],
   "source": [
    "a/=2\n",
    "a"
   ]
  },
  {
   "cell_type": "code",
   "execution_count": 17,
   "id": "c63edafd",
   "metadata": {
    "scrolled": true
   },
   "outputs": [
    {
     "data": {
      "text/plain": [
       "3.0"
      ]
     },
     "execution_count": 17,
     "metadata": {},
     "output_type": "execute_result"
    }
   ],
   "source": [
    "a//=2\n",
    "a"
   ]
  },
  {
   "cell_type": "markdown",
   "id": "082eb2a3",
   "metadata": {},
   "source": [
    "#### Comparison Operators\n",
    "Comparison operators are used to compare two values"
   ]
  },
  {
   "cell_type": "code",
   "execution_count": 18,
   "id": "e17fd7a0",
   "metadata": {},
   "outputs": [
    {
     "data": {
      "text/plain": [
       "False"
      ]
     },
     "execution_count": 18,
     "metadata": {},
     "output_type": "execute_result"
    }
   ],
   "source": [
    "a=4\n",
    "b=5\n",
    "a==b"
   ]
  },
  {
   "cell_type": "code",
   "execution_count": 19,
   "id": "20adb187",
   "metadata": {},
   "outputs": [
    {
     "data": {
      "text/plain": [
       "False"
      ]
     },
     "execution_count": 19,
     "metadata": {},
     "output_type": "execute_result"
    }
   ],
   "source": [
    "a>=b"
   ]
  },
  {
   "cell_type": "code",
   "execution_count": 20,
   "id": "af0c72fd",
   "metadata": {},
   "outputs": [
    {
     "data": {
      "text/plain": [
       "True"
      ]
     },
     "execution_count": 20,
     "metadata": {},
     "output_type": "execute_result"
    }
   ],
   "source": [
    "a<=b"
   ]
  },
  {
   "cell_type": "code",
   "execution_count": 21,
   "id": "48d9e0aa",
   "metadata": {},
   "outputs": [
    {
     "data": {
      "text/plain": [
       "True"
      ]
     },
     "execution_count": 21,
     "metadata": {},
     "output_type": "execute_result"
    }
   ],
   "source": [
    "a!=b"
   ]
  },
  {
   "cell_type": "code",
   "execution_count": 22,
   "id": "97b19b68",
   "metadata": {},
   "outputs": [
    {
     "data": {
      "text/plain": [
       "False"
      ]
     },
     "execution_count": 22,
     "metadata": {},
     "output_type": "execute_result"
    }
   ],
   "source": [
    "a>b"
   ]
  },
  {
   "cell_type": "code",
   "execution_count": 23,
   "id": "c1023016",
   "metadata": {},
   "outputs": [
    {
     "data": {
      "text/plain": [
       "True"
      ]
     },
     "execution_count": 23,
     "metadata": {},
     "output_type": "execute_result"
    }
   ],
   "source": [
    "a<b"
   ]
  },
  {
   "cell_type": "markdown",
   "id": "201d3103",
   "metadata": {},
   "source": [
    "#### Logical Operators\n",
    "Logical operators are used to combine conditional statements"
   ]
  },
  {
   "cell_type": "code",
   "execution_count": 24,
   "id": "511ea3e4",
   "metadata": {},
   "outputs": [
    {
     "data": {
      "text/plain": [
       "False"
      ]
     },
     "execution_count": 24,
     "metadata": {},
     "output_type": "execute_result"
    }
   ],
   "source": [
    "a>5 and b<6"
   ]
  },
  {
   "cell_type": "code",
   "execution_count": 25,
   "id": "05e1fc0e",
   "metadata": {},
   "outputs": [
    {
     "data": {
      "text/plain": [
       "True"
      ]
     },
     "execution_count": 25,
     "metadata": {},
     "output_type": "execute_result"
    }
   ],
   "source": [
    "a>5 or b<6"
   ]
  },
  {
   "cell_type": "code",
   "execution_count": 26,
   "id": "007804a5",
   "metadata": {},
   "outputs": [
    {
     "data": {
      "text/plain": [
       "True"
      ]
     },
     "execution_count": 26,
     "metadata": {},
     "output_type": "execute_result"
    }
   ],
   "source": [
    "not(a>5 and b<6)"
   ]
  },
  {
   "cell_type": "markdown",
   "id": "906cefd3",
   "metadata": {},
   "source": [
    "#### Identity Operators\n",
    "Identity operators are used to compare the objects, not if they are equal, but if they are actually the same object, with the same memory location"
   ]
  },
  {
   "cell_type": "code",
   "execution_count": 27,
   "id": "52fe7e0f",
   "metadata": {},
   "outputs": [
    {
     "name": "stdout",
     "output_type": "stream",
     "text": [
      "True\n",
      "False\n",
      "True\n"
     ]
    }
   ],
   "source": [
    "# is operator: Returns true if both variables are the same object\n",
    "# is not: Returns true if both variables are not the same object\n",
    "x = [\"apple\", \"banana\"]\n",
    "y = [\"apple\", \"banana\"]\n",
    "z = x\n",
    "\n",
    "print(x is z)\n",
    "\n",
    "# returns True because z is the same object as x\n",
    "\n",
    "print(x is y)\n",
    "\n",
    "# returns False because x is not the same object as y, even if they have the same content\n",
    "\n",
    "print(x == y)\n",
    "\n",
    "# to demonstrate the difference betweeen \"is\" and \"==\": this comparison returns True because x is equal to y"
   ]
  },
  {
   "cell_type": "code",
   "execution_count": 28,
   "id": "30c40ab2",
   "metadata": {},
   "outputs": [
    {
     "name": "stdout",
     "output_type": "stream",
     "text": [
      "False\n",
      "True\n",
      "False\n"
     ]
    }
   ],
   "source": [
    "x = [\"apple\", \"banana\"]\n",
    "y = [\"apple\", \"banana\"]\n",
    "z = x\n",
    "\n",
    "print(x is not z)\n",
    "\n",
    "# returns False because z is the same object as x\n",
    "\n",
    "print(x is not y)\n",
    "\n",
    "# returns True because x is not the same object as y, even if they have the same content\n",
    "\n",
    "print(x != y)\n",
    "\n",
    "# to demonstrate the difference betweeen \"is not\" and \"!=\": this comparison returns False because x is equal to y\n"
   ]
  },
  {
   "cell_type": "markdown",
   "id": "c9b920a8",
   "metadata": {},
   "source": [
    "#### Membership operators\n",
    "Membership operators are used to test if a sequence is presented in an object"
   ]
  },
  {
   "cell_type": "code",
   "execution_count": 29,
   "id": "98ced050",
   "metadata": {},
   "outputs": [
    {
     "name": "stdout",
     "output_type": "stream",
     "text": [
      "True\n"
     ]
    }
   ],
   "source": [
    "#in operator: Returns True if a sequence with the specified value is present in the object\n",
    "x = [\"apple\", \"banana\"]\n",
    "\n",
    "print(\"banana\" in x)\n",
    "\n",
    "# returns True because a sequence with the value \"banana\" is in the list"
   ]
  },
  {
   "cell_type": "code",
   "execution_count": 30,
   "id": "6cceccde",
   "metadata": {},
   "outputs": [
    {
     "name": "stdout",
     "output_type": "stream",
     "text": [
      "True\n"
     ]
    }
   ],
   "source": [
    "#not in operator: Returns True if a sequence with the specified value is not present in the object\n",
    "x = [\"apple\", \"banana\"]\n",
    "\n",
    "print(\"pineapple\" not in x)\n",
    "\n",
    "# returns True because a sequence with the value \"pineapple\" is not in the list\n"
   ]
  },
  {
   "cell_type": "markdown",
   "id": "180ade13",
   "metadata": {},
   "source": [
    "#### Bitwise operators\n",
    "Bitwise operators are used to compare (binary) numbers"
   ]
  },
  {
   "cell_type": "code",
   "execution_count": 31,
   "id": "a0218d7d",
   "metadata": {},
   "outputs": [
    {
     "data": {
      "text/plain": [
       "4"
      ]
     },
     "execution_count": 31,
     "metadata": {},
     "output_type": "execute_result"
    }
   ],
   "source": [
    "# '&' operator[and]\n",
    "4&5"
   ]
  },
  {
   "cell_type": "code",
   "execution_count": 32,
   "id": "9c652234",
   "metadata": {},
   "outputs": [
    {
     "data": {
      "text/plain": [
       "5"
      ]
     },
     "execution_count": 32,
     "metadata": {},
     "output_type": "execute_result"
    }
   ],
   "source": [
    "# '|' operator[or]\n",
    "4|5"
   ]
  },
  {
   "cell_type": "code",
   "execution_count": 33,
   "id": "09f97347",
   "metadata": {},
   "outputs": [
    {
     "data": {
      "text/plain": [
       "1"
      ]
     },
     "execution_count": 33,
     "metadata": {},
     "output_type": "execute_result"
    }
   ],
   "source": [
    "#  '^' operator[xor]\n",
    "4^5"
   ]
  },
  {
   "cell_type": "code",
   "execution_count": 34,
   "id": "fbd2f71b",
   "metadata": {},
   "outputs": [
    {
     "data": {
      "text/plain": [
       "-5"
      ]
     },
     "execution_count": 34,
     "metadata": {},
     "output_type": "execute_result"
    }
   ],
   "source": [
    "# '~' operator[not]\n",
    "~4"
   ]
  },
  {
   "cell_type": "code",
   "execution_count": 35,
   "id": "b3214475",
   "metadata": {},
   "outputs": [
    {
     "data": {
      "text/plain": [
       "16"
      ]
     },
     "execution_count": 35,
     "metadata": {},
     "output_type": "execute_result"
    }
   ],
   "source": [
    "# '<<' operator[bitwise left shift operator]\n",
    "4<<2"
   ]
  },
  {
   "cell_type": "code",
   "execution_count": 37,
   "id": "887c4925",
   "metadata": {},
   "outputs": [
    {
     "data": {
      "text/plain": [
       "1"
      ]
     },
     "execution_count": 37,
     "metadata": {},
     "output_type": "execute_result"
    }
   ],
   "source": [
    "# '>>' operator[bitwies right shift operator]\n",
    "4>>2"
   ]
  },
  {
   "cell_type": "markdown",
   "id": "99e1adc9",
   "metadata": {},
   "source": [
    "### Type Conversions\n",
    " \n",
    " Type conversions are of two types:\n",
    " - Implicit Type Conversion\n",
    " - Explicit Type Conversion\n",
    " \n",
    " #### Implicit Type Conversion\n",
    " \n",
    " Automatically converts one data type to another without any user involvement"
   ]
  },
  {
   "cell_type": "code",
   "execution_count": 29,
   "id": "1e302647",
   "metadata": {},
   "outputs": [
    {
     "name": "stdout",
     "output_type": "stream",
     "text": [
      "<class 'int'>\n",
      "<class 'float'>\n",
      "Sum 11.2\n",
      "<class 'float'>\n"
     ]
    }
   ],
   "source": [
    "x=10\n",
    "print(type(x))\n",
    "y=1.2\n",
    "print(type(y))\n",
    "print(\"Sum {}\".format(x+y))\n",
    "print(type(x+y)) #implicit type conversion"
   ]
  },
  {
   "cell_type": "markdown",
   "id": "3df3fd3d",
   "metadata": {},
   "source": [
    "#### Explicit Type Conversion\n",
    "\n",
    "The data type is manually changed by the user as per their requirement."
   ]
  },
  {
   "cell_type": "code",
   "execution_count": 31,
   "id": "9c60510f",
   "metadata": {},
   "outputs": [
    {
     "name": "stdout",
     "output_type": "stream",
     "text": [
      "<class 'str'>\n",
      "<class 'int'>\n",
      "<class 'int'>\n",
      "Sum is 16\n",
      "<class 'int'>\n"
     ]
    }
   ],
   "source": [
    "s='12'\n",
    "print(type(s))\n",
    "a=4\n",
    "print(type(a))\n",
    "#explicit type conversion\n",
    "b=int(s)\n",
    "print(type(b))\n",
    "print(\"Sum is {}\".format(a+b))\n",
    "print(type(a+b))"
   ]
  },
  {
   "cell_type": "markdown",
   "id": "c8e80930",
   "metadata": {},
   "source": [
    "### Lists\n",
    "\n",
    "- Lists are used to mulitple items in a single variable\n",
    "- They are enclosed in square brackets and items of any data type can be stored\n",
    "- They are ordered, mutable or changeable\n",
    "\n",
    "#### Difference between lists and arrays\n",
    "Multiple data types can be stored in a single list whereas an array is a collection of only a single data type"
   ]
  },
  {
   "cell_type": "code",
   "execution_count": 2,
   "id": "a08096d2",
   "metadata": {},
   "outputs": [
    {
     "data": {
      "text/plain": [
       "list"
      ]
     },
     "execution_count": 2,
     "metadata": {},
     "output_type": "execute_result"
    }
   ],
   "source": [
    "list1=[\"apple\",\"banana\"]\n",
    "type(list1)"
   ]
  },
  {
   "cell_type": "markdown",
   "id": "7debf87d",
   "metadata": {},
   "source": [
    "### Tuples\n",
    "\n",
    "- Tuples are used to store multiple items in a single variable\n",
    "- Ordered and immutable or unchangeable"
   ]
  },
  {
   "cell_type": "code",
   "execution_count": 3,
   "id": "b04fb584",
   "metadata": {},
   "outputs": [
    {
     "data": {
      "text/plain": [
       "tuple"
      ]
     },
     "execution_count": 3,
     "metadata": {},
     "output_type": "execute_result"
    }
   ],
   "source": [
    "tuple1=(\"roses\",\"daisies\")\n",
    "type(tuple1)"
   ]
  },
  {
   "cell_type": "markdown",
   "id": "84c5ab63",
   "metadata": {},
   "source": [
    "### Sets\n",
    "\n",
    "- Sets are unordered, unchangeable and unindexed\n",
    "- They are used to store mulitple items in a single variable"
   ]
  },
  {
   "cell_type": "code",
   "execution_count": 4,
   "id": "c065fc72",
   "metadata": {},
   "outputs": [
    {
     "data": {
      "text/plain": [
       "set"
      ]
     },
     "execution_count": 4,
     "metadata": {},
     "output_type": "execute_result"
    }
   ],
   "source": [
    "set1={1,2,3,4,5}\n",
    "type(set1)"
   ]
  },
  {
   "cell_type": "markdown",
   "id": "68b24e3d",
   "metadata": {},
   "source": [
    "### Dictionary\n",
    "\n",
    "- The values in dictionary are stored as key-value pairs.\n",
    "- They are mutable or changeable and ordered, does not allow duplicate values"
   ]
  },
  {
   "cell_type": "code",
   "execution_count": 5,
   "id": "1135d8e3",
   "metadata": {},
   "outputs": [
    {
     "data": {
      "text/plain": [
       "dict"
      ]
     },
     "execution_count": 5,
     "metadata": {},
     "output_type": "execute_result"
    }
   ],
   "source": [
    "dict1={\"car1\":\"BMW\",\"car2\":\"Audi\",\"car3\":\"Mercedes\"}\n",
    "type(dict1)"
   ]
  },
  {
   "cell_type": "markdown",
   "id": "eb5ab8a6",
   "metadata": {},
   "source": [
    "### Conditional statements\n",
    "- If\n",
    "- Elif\n",
    "- Else"
   ]
  },
  {
   "cell_type": "code",
   "execution_count": 6,
   "id": "d0b31990",
   "metadata": {},
   "outputs": [
    {
     "name": "stdout",
     "output_type": "stream",
     "text": [
      "Enter the age of a person:23\n",
      "You are eligible to vote\n"
     ]
    }
   ],
   "source": [
    "# Application of if statement\n",
    "# Write a program to check if a person can vote or not\n",
    "age=int(input(\"Enter the age of a person:\"))\n",
    "if(age>=18):\n",
    "    print(\"You are eligible to vote\")\n",
    "else:\n",
    "    print(\"You are not eligible to vote\")"
   ]
  },
  {
   "cell_type": "code",
   "execution_count": 46,
   "id": "37dd377e",
   "metadata": {},
   "outputs": [
    {
     "name": "stdout",
     "output_type": "stream",
     "text": [
      "Enter a number:0\n",
      "Zero\n"
     ]
    }
   ],
   "source": [
    "# Check it its a negative, positive number or zero\n",
    "a=int(input(\"Enter a number:\"))\n",
    "if(a>0):\n",
    "    print(\"Positive number\")\n",
    "elif(a<0):\n",
    "    print(\"Negative number\")\n",
    "else:\n",
    "    print(\"Zero\")"
   ]
  },
  {
   "cell_type": "markdown",
   "id": "9ad13a3f",
   "metadata": {},
   "source": [
    "### Nested if"
   ]
  },
  {
   "cell_type": "code",
   "execution_count": 7,
   "id": "6957ed64",
   "metadata": {},
   "outputs": [
    {
     "name": "stdout",
     "output_type": "stream",
     "text": [
      "Above ten,\n",
      "and also above 20!\n"
     ]
    }
   ],
   "source": [
    "x = 41\n",
    "\n",
    "if x > 10:\n",
    "  print(\"Above ten,\")\n",
    "  if x > 20:\n",
    "    print(\"and also above 20!\")\n",
    "  else:\n",
    "    print(\"but not above 20.\")"
   ]
  },
  {
   "cell_type": "markdown",
   "id": "9cbdd972",
   "metadata": {},
   "source": [
    "### Pass statement\n",
    "\n",
    "If statements cannot be empty, but if you for some reason have an if statement with no content, put in the pass statement to avoid getting an error."
   ]
  },
  {
   "cell_type": "code",
   "execution_count": 8,
   "id": "01abf6aa",
   "metadata": {},
   "outputs": [],
   "source": [
    "a = 33\n",
    "b = 200\n",
    "\n",
    "if b > a:\n",
    "  pass"
   ]
  },
  {
   "cell_type": "markdown",
   "id": "cda6590d",
   "metadata": {},
   "source": [
    "### Escape Characters\n",
    "\n",
    "-  To insert characters that are illegal in a string, use an escape character.\n",
    "-  An escape character is a backslash \\ followed by the character you want to insert.\n",
    "\n",
    "- \\': Single Quote\n",
    "- \\\\: Backslash\n",
    "- \\n: New line\n",
    "- \\r: Carriage return\n",
    "- \\t: Tab\n",
    "- \\b: Backspace\n",
    "- \\f: Form feed\n",
    "- \\ooo: Octal value\n",
    "- \\xhh: Hex value"
   ]
  },
  {
   "cell_type": "markdown",
   "id": "2ce1e29b",
   "metadata": {},
   "source": [
    "### Loops\n",
    "\n",
    "Python has two primitive loop commands\n",
    "- for loop\n",
    "- while loop"
   ]
  },
  {
   "cell_type": "code",
   "execution_count": 38,
   "id": "f614fa0b",
   "metadata": {},
   "outputs": [
    {
     "name": "stdout",
     "output_type": "stream",
     "text": [
      "1\n",
      "2\n",
      "3\n",
      "4\n",
      "5\n"
     ]
    }
   ],
   "source": [
    "# while loop\n",
    "i=1;\n",
    "while(i<=5):\n",
    "    print(i)\n",
    "    i=i+1"
   ]
  },
  {
   "cell_type": "code",
   "execution_count": 40,
   "id": "0cf08482",
   "metadata": {},
   "outputs": [
    {
     "name": "stdout",
     "output_type": "stream",
     "text": [
      "1\n",
      "2\n",
      "3\n",
      "4\n",
      "5\n"
     ]
    }
   ],
   "source": [
    "# for loop\n",
    "for i in range(1,6):\n",
    "    print(i)"
   ]
  },
  {
   "cell_type": "markdown",
   "id": "cf7a605b",
   "metadata": {},
   "source": [
    "#### Break statement\n",
    "With the break statement we can stop the loop even if the while condition is true"
   ]
  },
  {
   "cell_type": "code",
   "execution_count": 44,
   "id": "32b545d8",
   "metadata": {},
   "outputs": [
    {
     "name": "stdout",
     "output_type": "stream",
     "text": [
      "1\n",
      "2\n"
     ]
    }
   ],
   "source": [
    "i=1\n",
    "while(i<=5):\n",
    "    print(i)\n",
    "    i=i+1\n",
    "    if(i==3):\n",
    "        break"
   ]
  },
  {
   "cell_type": "markdown",
   "id": "53678429",
   "metadata": {},
   "source": [
    "#### Continue statement\n",
    "With the continue statement we can stop the current iteration, and continue with the next"
   ]
  },
  {
   "cell_type": "code",
   "execution_count": 50,
   "id": "4faa7729",
   "metadata": {},
   "outputs": [
    {
     "name": "stdout",
     "output_type": "stream",
     "text": [
      "1\n",
      "2\n",
      "3\n",
      "4\n",
      "5\n"
     ]
    }
   ],
   "source": [
    "i=1\n",
    "while(i<=5):\n",
    "    print(i)\n",
    "    i=i+1\n",
    "    if(i==3):\n",
    "        continue\n",
    "   \n",
    "    "
   ]
  }
 ],
 "metadata": {
  "kernelspec": {
   "display_name": "Python 3 (ipykernel)",
   "language": "python",
   "name": "python3"
  },
  "language_info": {
   "codemirror_mode": {
    "name": "ipython",
    "version": 3
   },
   "file_extension": ".py",
   "mimetype": "text/x-python",
   "name": "python",
   "nbconvert_exporter": "python",
   "pygments_lexer": "ipython3",
   "version": "3.11.5"
  }
 },
 "nbformat": 4,
 "nbformat_minor": 5
}
